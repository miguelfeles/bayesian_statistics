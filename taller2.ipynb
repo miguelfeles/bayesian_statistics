{
 "cells": [
  {
   "cell_type": "markdown",
   "metadata": {},
   "source": [
    "Carga de librerpias"
   ]
  },
  {
   "cell_type": "code",
   "execution_count": 41,
   "metadata": {},
   "outputs": [
    {
     "data": {
      "text/html": [
       "<div>\n",
       "<style scoped>\n",
       "    .dataframe tbody tr th:only-of-type {\n",
       "        vertical-align: middle;\n",
       "    }\n",
       "\n",
       "    .dataframe tbody tr th {\n",
       "        vertical-align: top;\n",
       "    }\n",
       "\n",
       "    .dataframe thead th {\n",
       "        text-align: right;\n",
       "    }\n",
       "</style>\n",
       "<table border=\"1\" class=\"dataframe\">\n",
       "  <thead>\n",
       "    <tr style=\"text-align: right;\">\n",
       "      <th></th>\n",
       "      <th>Id</th>\n",
       "      <th>City</th>\n",
       "      <th>Smart_Environment</th>\n",
       "      <th>Smart_Economy</th>\n",
       "      <th>Smart_People</th>\n",
       "    </tr>\n",
       "  </thead>\n",
       "  <tbody>\n",
       "    <tr>\n",
       "      <th>0</th>\n",
       "      <td>1</td>\n",
       "      <td>Oslo</td>\n",
       "      <td>6512</td>\n",
       "      <td>4565</td>\n",
       "      <td>8618</td>\n",
       "    </tr>\n",
       "    <tr>\n",
       "      <th>1</th>\n",
       "      <td>2</td>\n",
       "      <td>Bergen</td>\n",
       "      <td>6876</td>\n",
       "      <td>4905</td>\n",
       "      <td>8050</td>\n",
       "    </tr>\n",
       "    <tr>\n",
       "      <th>2</th>\n",
       "      <td>3</td>\n",
       "      <td>Amsterdam</td>\n",
       "      <td>5558</td>\n",
       "      <td>8095</td>\n",
       "      <td>7098</td>\n",
       "    </tr>\n",
       "    <tr>\n",
       "      <th>3</th>\n",
       "      <td>4</td>\n",
       "      <td>Copenhagen</td>\n",
       "      <td>7920</td>\n",
       "      <td>5580</td>\n",
       "      <td>5780</td>\n",
       "    </tr>\n",
       "    <tr>\n",
       "      <th>4</th>\n",
       "      <td>5</td>\n",
       "      <td>Stockholm</td>\n",
       "      <td>7692</td>\n",
       "      <td>4330</td>\n",
       "      <td>6743</td>\n",
       "    </tr>\n",
       "    <tr>\n",
       "      <th>...</th>\n",
       "      <td>...</td>\n",
       "      <td>...</td>\n",
       "      <td>...</td>\n",
       "      <td>...</td>\n",
       "      <td>...</td>\n",
       "    </tr>\n",
       "    <tr>\n",
       "      <th>97</th>\n",
       "      <td>98</td>\n",
       "      <td>Riga</td>\n",
       "      <td>4584</td>\n",
       "      <td>7380</td>\n",
       "      <td>3745</td>\n",
       "    </tr>\n",
       "    <tr>\n",
       "      <th>98</th>\n",
       "      <td>99</td>\n",
       "      <td>Beijing</td>\n",
       "      <td>2998</td>\n",
       "      <td>4905</td>\n",
       "      <td>5183</td>\n",
       "    </tr>\n",
       "    <tr>\n",
       "      <th>99</th>\n",
       "      <td>100</td>\n",
       "      <td>St Petersburg</td>\n",
       "      <td>2908</td>\n",
       "      <td>4515</td>\n",
       "      <td>5390</td>\n",
       "    </tr>\n",
       "    <tr>\n",
       "      <th>100</th>\n",
       "      <td>101</td>\n",
       "      <td>Calgary</td>\n",
       "      <td>4052</td>\n",
       "      <td>8022</td>\n",
       "      <td>6424</td>\n",
       "    </tr>\n",
       "    <tr>\n",
       "      <th>101</th>\n",
       "      <td>102</td>\n",
       "      <td>Edmonton</td>\n",
       "      <td>4499</td>\n",
       "      <td>8022</td>\n",
       "      <td>6200</td>\n",
       "    </tr>\n",
       "  </tbody>\n",
       "</table>\n",
       "<p>102 rows × 5 columns</p>\n",
       "</div>"
      ],
      "text/plain": [
       "      Id           City  Smart_Environment  Smart_Economy   Smart_People\n",
       "0      1           Oslo               6512            4565          8618\n",
       "1      2         Bergen               6876            4905          8050\n",
       "2      3      Amsterdam               5558            8095          7098\n",
       "3      4     Copenhagen               7920            5580          5780\n",
       "4      5      Stockholm               7692            4330          6743\n",
       "..   ...            ...                ...             ...           ...\n",
       "97    98           Riga               4584            7380          3745\n",
       "98    99        Beijing               2998            4905          5183\n",
       "99   100  St Petersburg               2908            4515          5390\n",
       "100  101        Calgary               4052            8022          6424\n",
       "101  102       Edmonton               4499            8022          6200\n",
       "\n",
       "[102 rows x 5 columns]"
      ]
     },
     "execution_count": 41,
     "metadata": {},
     "output_type": "execute_result"
    }
   ],
   "source": [
    "import pandas as pd\n",
    "from urllib.request import urlopen\n",
    "import json\n",
    "import geopandas as gpd\n",
    "import plotly.express as px\n",
    "df = pd.read_csv(\"https://raw.githubusercontent.com/Andres1984/Data-Analysis-with-R/master/Bases/Smart_City_index.csv\")\n",
    "indices = df[[\"Id\", \"City\", \"Smart_Environment\", \"Smart_Economy \", \"Smart_People\"]].copy()\n",
    "#indices[\"City\"] = indices[\"City\"].str.upper()\n",
    "indices"
   ]
  },
  {
   "cell_type": "code",
   "execution_count": 48,
   "metadata": {},
   "outputs": [],
   "source": [
    "coordenadas = gpd.read_file(gpd.datasets.get_path('naturalearth_cities')).rename(columns = {'name':'City'})\n",
    "indices_completos = pd.merge(indices, coordenadas, on = \"City\")"
   ]
  },
  {
   "cell_type": "code",
   "execution_count": 61,
   "metadata": {},
   "outputs": [
    {
     "data": {
      "application/vnd.plotly.v1+json": {
       "config": {
        "plotlyServerURL": "https://plot.ly"
       },
       "data": [
        {
         "hovertemplate": "<b>%{hovertext}</b><br><br>lat=%{lat}<br>lon=%{lon}<extra></extra>",
         "hovertext": [
          "Oslo",
          "Amsterdam",
          "Stockholm",
          "Vienna",
          "Singapore",
          "Ottawa",
          "Los Angeles",
          "Helsinki",
          "Vancouver",
          "Berlin",
          "Toronto",
          "New York",
          "Chicago",
          "Taipei",
          "Geneva",
          "Luxembourg",
          "Paris",
          "Sydney",
          "San Francisco",
          "London",
          "Melbourne",
          "Tokyo",
          "Auckland",
          "Madrid",
          "Brussels",
          "Dublin",
          "Abu Dhabi",
          "Seoul",
          "Tallinn",
          "Dubai",
          "Budapest",
          "Bratislava",
          "Ljubljana",
          "Tel Aviv",
          "Hong Kong",
          "Lisbon",
          "Prague",
          "Rome",
          "Shanghai",
          "Moscow",
          "Riga",
          "Beijing"
         ],
         "lat": [
          59.9186361,
          52.3519145,
          59.324127204007475,
          48.2019611,
          1.2949793,
          45.4186427,
          34.049219260337075,
          60.16380384948568,
          49.2753624,
          52.5237645,
          43.66464454743429,
          40.72156174972766,
          41.847961283364114,
          25.0358333,
          46.2100075,
          49.6116604,
          48.85809231626911,
          -33.87137339218338,
          37.784262651527904,
          51.5019406,
          -37.8180855,
          35.6869628,
          -36.8480549,
          40.4019721,
          50.8352629,
          53.34673124898314,
          24.4666836,
          37.568295,
          59.4338774,
          25.21491189371225,
          47.5019522,
          48.1500183,
          46.0552883,
          32.0819373,
          22.3069268,
          38.7246687,
          50.0869665373215,
          41.8979015,
          31.2183983,
          55.75411,
          56.9500238,
          39.901720309862675
         ],
         "legendgroup": "",
         "lon": [
          10.7480333,
          4.9146943,
          18.066300168534497,
          16.3646931,
          103.8538748,
          -75.7019612,
          -118.23198647223317,
          24.932456915043964,
          -123.1235901,
          13.3996028,
          -79.38945855491194,
          -73.99571754361698,
          -87.63523655322338,
          121.5683333,
          6.140028,
          6.1300028,
          2.3529924615392135,
          151.2125477744749,
          -122.39959956304557,
          -0.1186677,
          144.9730704,
          139.7494616,
          174.763027,
          -3.6852975,
          4.3313707,
          -6.256979517281132,
          54.3665934,
          126.9977851,
          24.7280407,
          55.28694561354246,
          19.0813748,
          17.1169808,
          14.514969,
          34.7680659,
          114.1830635,
          -9.1468122,
          14.422939486203868,
          12.4813126,
          121.4345588,
          37.613577,
          24.0999654,
          116.39420089260611
         ],
         "marker": {
          "color": "#636efa"
         },
         "mode": "markers",
         "name": "",
         "showlegend": false,
         "subplot": "mapbox",
         "type": "scattermapbox"
        }
       ],
       "layout": {
        "legend": {
         "tracegroupgap": 0
        },
        "mapbox": {
         "center": {
          "lat": 37.54298739190118,
          "lon": 24.554894178753155
         },
         "domain": {
          "x": [
           0,
           1
          ],
          "y": [
           0,
           1
          ]
         },
         "zoom": 1
        },
        "margin": {
         "t": 60
        },
        "template": {
         "data": {
          "bar": [
           {
            "error_x": {
             "color": "#2a3f5f"
            },
            "error_y": {
             "color": "#2a3f5f"
            },
            "marker": {
             "line": {
              "color": "#E5ECF6",
              "width": 0.5
             },
             "pattern": {
              "fillmode": "overlay",
              "size": 10,
              "solidity": 0.2
             }
            },
            "type": "bar"
           }
          ],
          "barpolar": [
           {
            "marker": {
             "line": {
              "color": "#E5ECF6",
              "width": 0.5
             },
             "pattern": {
              "fillmode": "overlay",
              "size": 10,
              "solidity": 0.2
             }
            },
            "type": "barpolar"
           }
          ],
          "carpet": [
           {
            "aaxis": {
             "endlinecolor": "#2a3f5f",
             "gridcolor": "white",
             "linecolor": "white",
             "minorgridcolor": "white",
             "startlinecolor": "#2a3f5f"
            },
            "baxis": {
             "endlinecolor": "#2a3f5f",
             "gridcolor": "white",
             "linecolor": "white",
             "minorgridcolor": "white",
             "startlinecolor": "#2a3f5f"
            },
            "type": "carpet"
           }
          ],
          "choropleth": [
           {
            "colorbar": {
             "outlinewidth": 0,
             "ticks": ""
            },
            "type": "choropleth"
           }
          ],
          "contour": [
           {
            "colorbar": {
             "outlinewidth": 0,
             "ticks": ""
            },
            "colorscale": [
             [
              0,
              "#0d0887"
             ],
             [
              0.1111111111111111,
              "#46039f"
             ],
             [
              0.2222222222222222,
              "#7201a8"
             ],
             [
              0.3333333333333333,
              "#9c179e"
             ],
             [
              0.4444444444444444,
              "#bd3786"
             ],
             [
              0.5555555555555556,
              "#d8576b"
             ],
             [
              0.6666666666666666,
              "#ed7953"
             ],
             [
              0.7777777777777778,
              "#fb9f3a"
             ],
             [
              0.8888888888888888,
              "#fdca26"
             ],
             [
              1,
              "#f0f921"
             ]
            ],
            "type": "contour"
           }
          ],
          "contourcarpet": [
           {
            "colorbar": {
             "outlinewidth": 0,
             "ticks": ""
            },
            "type": "contourcarpet"
           }
          ],
          "heatmap": [
           {
            "colorbar": {
             "outlinewidth": 0,
             "ticks": ""
            },
            "colorscale": [
             [
              0,
              "#0d0887"
             ],
             [
              0.1111111111111111,
              "#46039f"
             ],
             [
              0.2222222222222222,
              "#7201a8"
             ],
             [
              0.3333333333333333,
              "#9c179e"
             ],
             [
              0.4444444444444444,
              "#bd3786"
             ],
             [
              0.5555555555555556,
              "#d8576b"
             ],
             [
              0.6666666666666666,
              "#ed7953"
             ],
             [
              0.7777777777777778,
              "#fb9f3a"
             ],
             [
              0.8888888888888888,
              "#fdca26"
             ],
             [
              1,
              "#f0f921"
             ]
            ],
            "type": "heatmap"
           }
          ],
          "heatmapgl": [
           {
            "colorbar": {
             "outlinewidth": 0,
             "ticks": ""
            },
            "colorscale": [
             [
              0,
              "#0d0887"
             ],
             [
              0.1111111111111111,
              "#46039f"
             ],
             [
              0.2222222222222222,
              "#7201a8"
             ],
             [
              0.3333333333333333,
              "#9c179e"
             ],
             [
              0.4444444444444444,
              "#bd3786"
             ],
             [
              0.5555555555555556,
              "#d8576b"
             ],
             [
              0.6666666666666666,
              "#ed7953"
             ],
             [
              0.7777777777777778,
              "#fb9f3a"
             ],
             [
              0.8888888888888888,
              "#fdca26"
             ],
             [
              1,
              "#f0f921"
             ]
            ],
            "type": "heatmapgl"
           }
          ],
          "histogram": [
           {
            "marker": {
             "pattern": {
              "fillmode": "overlay",
              "size": 10,
              "solidity": 0.2
             }
            },
            "type": "histogram"
           }
          ],
          "histogram2d": [
           {
            "colorbar": {
             "outlinewidth": 0,
             "ticks": ""
            },
            "colorscale": [
             [
              0,
              "#0d0887"
             ],
             [
              0.1111111111111111,
              "#46039f"
             ],
             [
              0.2222222222222222,
              "#7201a8"
             ],
             [
              0.3333333333333333,
              "#9c179e"
             ],
             [
              0.4444444444444444,
              "#bd3786"
             ],
             [
              0.5555555555555556,
              "#d8576b"
             ],
             [
              0.6666666666666666,
              "#ed7953"
             ],
             [
              0.7777777777777778,
              "#fb9f3a"
             ],
             [
              0.8888888888888888,
              "#fdca26"
             ],
             [
              1,
              "#f0f921"
             ]
            ],
            "type": "histogram2d"
           }
          ],
          "histogram2dcontour": [
           {
            "colorbar": {
             "outlinewidth": 0,
             "ticks": ""
            },
            "colorscale": [
             [
              0,
              "#0d0887"
             ],
             [
              0.1111111111111111,
              "#46039f"
             ],
             [
              0.2222222222222222,
              "#7201a8"
             ],
             [
              0.3333333333333333,
              "#9c179e"
             ],
             [
              0.4444444444444444,
              "#bd3786"
             ],
             [
              0.5555555555555556,
              "#d8576b"
             ],
             [
              0.6666666666666666,
              "#ed7953"
             ],
             [
              0.7777777777777778,
              "#fb9f3a"
             ],
             [
              0.8888888888888888,
              "#fdca26"
             ],
             [
              1,
              "#f0f921"
             ]
            ],
            "type": "histogram2dcontour"
           }
          ],
          "mesh3d": [
           {
            "colorbar": {
             "outlinewidth": 0,
             "ticks": ""
            },
            "type": "mesh3d"
           }
          ],
          "parcoords": [
           {
            "line": {
             "colorbar": {
              "outlinewidth": 0,
              "ticks": ""
             }
            },
            "type": "parcoords"
           }
          ],
          "pie": [
           {
            "automargin": true,
            "type": "pie"
           }
          ],
          "scatter": [
           {
            "fillpattern": {
             "fillmode": "overlay",
             "size": 10,
             "solidity": 0.2
            },
            "type": "scatter"
           }
          ],
          "scatter3d": [
           {
            "line": {
             "colorbar": {
              "outlinewidth": 0,
              "ticks": ""
             }
            },
            "marker": {
             "colorbar": {
              "outlinewidth": 0,
              "ticks": ""
             }
            },
            "type": "scatter3d"
           }
          ],
          "scattercarpet": [
           {
            "marker": {
             "colorbar": {
              "outlinewidth": 0,
              "ticks": ""
             }
            },
            "type": "scattercarpet"
           }
          ],
          "scattergeo": [
           {
            "marker": {
             "colorbar": {
              "outlinewidth": 0,
              "ticks": ""
             }
            },
            "type": "scattergeo"
           }
          ],
          "scattergl": [
           {
            "marker": {
             "colorbar": {
              "outlinewidth": 0,
              "ticks": ""
             }
            },
            "type": "scattergl"
           }
          ],
          "scattermapbox": [
           {
            "marker": {
             "colorbar": {
              "outlinewidth": 0,
              "ticks": ""
             }
            },
            "type": "scattermapbox"
           }
          ],
          "scatterpolar": [
           {
            "marker": {
             "colorbar": {
              "outlinewidth": 0,
              "ticks": ""
             }
            },
            "type": "scatterpolar"
           }
          ],
          "scatterpolargl": [
           {
            "marker": {
             "colorbar": {
              "outlinewidth": 0,
              "ticks": ""
             }
            },
            "type": "scatterpolargl"
           }
          ],
          "scatterternary": [
           {
            "marker": {
             "colorbar": {
              "outlinewidth": 0,
              "ticks": ""
             }
            },
            "type": "scatterternary"
           }
          ],
          "surface": [
           {
            "colorbar": {
             "outlinewidth": 0,
             "ticks": ""
            },
            "colorscale": [
             [
              0,
              "#0d0887"
             ],
             [
              0.1111111111111111,
              "#46039f"
             ],
             [
              0.2222222222222222,
              "#7201a8"
             ],
             [
              0.3333333333333333,
              "#9c179e"
             ],
             [
              0.4444444444444444,
              "#bd3786"
             ],
             [
              0.5555555555555556,
              "#d8576b"
             ],
             [
              0.6666666666666666,
              "#ed7953"
             ],
             [
              0.7777777777777778,
              "#fb9f3a"
             ],
             [
              0.8888888888888888,
              "#fdca26"
             ],
             [
              1,
              "#f0f921"
             ]
            ],
            "type": "surface"
           }
          ],
          "table": [
           {
            "cells": {
             "fill": {
              "color": "#EBF0F8"
             },
             "line": {
              "color": "white"
             }
            },
            "header": {
             "fill": {
              "color": "#C8D4E3"
             },
             "line": {
              "color": "white"
             }
            },
            "type": "table"
           }
          ]
         },
         "layout": {
          "annotationdefaults": {
           "arrowcolor": "#2a3f5f",
           "arrowhead": 0,
           "arrowwidth": 1
          },
          "autotypenumbers": "strict",
          "coloraxis": {
           "colorbar": {
            "outlinewidth": 0,
            "ticks": ""
           }
          },
          "colorscale": {
           "diverging": [
            [
             0,
             "#8e0152"
            ],
            [
             0.1,
             "#c51b7d"
            ],
            [
             0.2,
             "#de77ae"
            ],
            [
             0.3,
             "#f1b6da"
            ],
            [
             0.4,
             "#fde0ef"
            ],
            [
             0.5,
             "#f7f7f7"
            ],
            [
             0.6,
             "#e6f5d0"
            ],
            [
             0.7,
             "#b8e186"
            ],
            [
             0.8,
             "#7fbc41"
            ],
            [
             0.9,
             "#4d9221"
            ],
            [
             1,
             "#276419"
            ]
           ],
           "sequential": [
            [
             0,
             "#0d0887"
            ],
            [
             0.1111111111111111,
             "#46039f"
            ],
            [
             0.2222222222222222,
             "#7201a8"
            ],
            [
             0.3333333333333333,
             "#9c179e"
            ],
            [
             0.4444444444444444,
             "#bd3786"
            ],
            [
             0.5555555555555556,
             "#d8576b"
            ],
            [
             0.6666666666666666,
             "#ed7953"
            ],
            [
             0.7777777777777778,
             "#fb9f3a"
            ],
            [
             0.8888888888888888,
             "#fdca26"
            ],
            [
             1,
             "#f0f921"
            ]
           ],
           "sequentialminus": [
            [
             0,
             "#0d0887"
            ],
            [
             0.1111111111111111,
             "#46039f"
            ],
            [
             0.2222222222222222,
             "#7201a8"
            ],
            [
             0.3333333333333333,
             "#9c179e"
            ],
            [
             0.4444444444444444,
             "#bd3786"
            ],
            [
             0.5555555555555556,
             "#d8576b"
            ],
            [
             0.6666666666666666,
             "#ed7953"
            ],
            [
             0.7777777777777778,
             "#fb9f3a"
            ],
            [
             0.8888888888888888,
             "#fdca26"
            ],
            [
             1,
             "#f0f921"
            ]
           ]
          },
          "colorway": [
           "#636efa",
           "#EF553B",
           "#00cc96",
           "#ab63fa",
           "#FFA15A",
           "#19d3f3",
           "#FF6692",
           "#B6E880",
           "#FF97FF",
           "#FECB52"
          ],
          "font": {
           "color": "#2a3f5f"
          },
          "geo": {
           "bgcolor": "white",
           "lakecolor": "white",
           "landcolor": "#E5ECF6",
           "showlakes": true,
           "showland": true,
           "subunitcolor": "white"
          },
          "hoverlabel": {
           "align": "left"
          },
          "hovermode": "closest",
          "mapbox": {
           "style": "light"
          },
          "paper_bgcolor": "white",
          "plot_bgcolor": "#E5ECF6",
          "polar": {
           "angularaxis": {
            "gridcolor": "white",
            "linecolor": "white",
            "ticks": ""
           },
           "bgcolor": "#E5ECF6",
           "radialaxis": {
            "gridcolor": "white",
            "linecolor": "white",
            "ticks": ""
           }
          },
          "scene": {
           "xaxis": {
            "backgroundcolor": "#E5ECF6",
            "gridcolor": "white",
            "gridwidth": 2,
            "linecolor": "white",
            "showbackground": true,
            "ticks": "",
            "zerolinecolor": "white"
           },
           "yaxis": {
            "backgroundcolor": "#E5ECF6",
            "gridcolor": "white",
            "gridwidth": 2,
            "linecolor": "white",
            "showbackground": true,
            "ticks": "",
            "zerolinecolor": "white"
           },
           "zaxis": {
            "backgroundcolor": "#E5ECF6",
            "gridcolor": "white",
            "gridwidth": 2,
            "linecolor": "white",
            "showbackground": true,
            "ticks": "",
            "zerolinecolor": "white"
           }
          },
          "shapedefaults": {
           "line": {
            "color": "#2a3f5f"
           }
          },
          "ternary": {
           "aaxis": {
            "gridcolor": "white",
            "linecolor": "white",
            "ticks": ""
           },
           "baxis": {
            "gridcolor": "white",
            "linecolor": "white",
            "ticks": ""
           },
           "bgcolor": "#E5ECF6",
           "caxis": {
            "gridcolor": "white",
            "linecolor": "white",
            "ticks": ""
           }
          },
          "title": {
           "x": 0.05
          },
          "xaxis": {
           "automargin": true,
           "gridcolor": "white",
           "linecolor": "white",
           "ticks": "",
           "title": {
            "standoff": 15
           },
           "zerolinecolor": "white",
           "zerolinewidth": 2
          },
          "yaxis": {
           "automargin": true,
           "gridcolor": "white",
           "linecolor": "white",
           "ticks": "",
           "title": {
            "standoff": 15
           },
           "zerolinecolor": "white",
           "zerolinewidth": 2
          }
         }
        }
       }
      }
     },
     "metadata": {},
     "output_type": "display_data"
    }
   ],
   "source": [
    "fig = px.scatter_mapbox(indices_completos,lat= [i.y for i in indices_completos.geometry] ,lon=[i.x for i in indices_completos.geometry],hover_name=\"City\",zoom=1)\n",
    "fig.show()"
   ]
  },
  {
   "cell_type": "code",
   "execution_count": 64,
   "metadata": {},
   "outputs": [
    {
     "data": {
      "application/vnd.plotly.v1+json": {
       "config": {
        "plotlyServerURL": "https://plot.ly"
       },
       "data": [
        {
         "hovertemplate": "<b>%{hovertext}</b><br><br>lat=%{lat}<br>lon=%{lon}<extra></extra>",
         "hovertext": [
          "Vatican City",
          "San Marino",
          "Vaduz",
          "Lobamba",
          "Luxembourg",
          "Palikir",
          "Majuro",
          "Funafuti",
          "Melekeok",
          "Bir Lehlou",
          "Monaco",
          "Tarawa",
          "Moroni",
          "Andorra",
          "Port-of-Spain",
          "Kigali",
          "Mbabane",
          "Juba",
          "The Hague",
          "Ljubljana",
          "Bratislava",
          "Doha",
          "Podgorica",
          "Sri Jayawardenepura Kotte",
          "Baguio",
          "Dodoma",
          "Bern",
          "Laayoune",
          "Pristina",
          "Roseau",
          "Djibouti",
          "Putrajaya",
          "Kyoto",
          "Banjul",
          "Skopje",
          "Bridgetown",
          "Porto-Novo",
          "Bujumbura",
          "Kingstown",
          "Castries",
          "Basseterre",
          "Port Louis",
          "Saint George's",
          "Manama",
          "Saint John's",
          "Montevideo",
          "Lomé",
          "Tunis",
          "Abu Dhabi",
          "Ashgabat",
          "Lusaka",
          "Harare",
          "Dili",
          "Port Vila",
          "Tegucigalpa",
          "Georgetown",
          "Reykjavík",
          "Port-au-Prince",
          "Kampala",
          "Paramaribo",
          "Niamey",
          "Dushanbe",
          "Asunción",
          "Managua",
          "Freetown",
          "Islamabad",
          "Kathmandu",
          "Bloemfontein",
          "Pretoria",
          "Port Moresby",
          "Honiara",
          "Panama City",
          "Rabat",
          "Chi?in?u",
          "Maputo",
          "Mogadishu",
          "Muscat",
          "Colombo",
          "Ulaanbaatar",
          "Windhoek",
          "Abuja",
          "Bissau",
          "Amman",
          "Vilnius",
          "Riga",
          "Bishkek",
          "Maseru",
          "Antananarivo",
          "Quito",
          "San José",
          "San Salvador",
          "Kingston",
          "N'Djamena",
          "Malabo",
          "Asmara",
          "Zagreb",
          "Tallinn",
          "Lilongwe",
          "Guatemala City",
          "Libreville",
          "Suva",
          "Valparaíso",
          "Nouakchott",
          "Bamako",
          "Beirut",
          "Tbilisi",
          "Nur-Sultan",
          "Vientiane",
          "Brazzaville",
          "Conakry",
          "Yamoussoukro",
          "Ottawa",
          "Belgrade",
          "Bandar Seri Begawan",
          "Sucre",
          "Belmopan",
          "Bangui",
          "Yaoundé",
          "Tirana",
          "Yerevan",
          "Baku",
          "Phnom Penh",
          "La Paz",
          "Cotonou",
          "Sofia",
          "Minsk",
          "Thimphu",
          "Gaborone",
          "Canberra",
          "Ouagadougou",
          "Sarajevo",
          "Naypyidaw",
          "Nuku'alofa",
          "Hargeisa",
          "Victoria",
          "São Tomé",
          "Apia",
          "Valletta",
          "Malé",
          "Jerusalem",
          "Praia",
          "Nassau",
          "Nicosia",
          "Wellington",
          "Hanoi",
          "Ankara",
          "Budapest",
          "Sanaa",
          "Bucharest",
          "Damascus",
          "Lisbon",
          "Khartoum",
          "Oslo",
          "Warsaw",
          "Pyongyang",
          "Dar es Salaam",
          "Dublin",
          "Monrovia",
          "Kuala Lumpur",
          "Havana",
          "Prague",
          "Kuwait City",
          "Santo Domingo",
          "Accra",
          "Tripoli",
          "Tel Aviv",
          "Helsinki",
          "København",
          "Abidjan",
          "Brasília",
          "Brussels",
          "Dhaka",
          "Luanda",
          "Algiers",
          "Yangon",
          "San Francisco",
          "Denver",
          "Houston",
          "Miami",
          "Atlanta",
          "Chicago",
          "Caracas",
          "Kyiv",
          "Dubai",
          "Tashkent",
          "Madrid",
          "Geneva",
          "Stockholm",
          "Bangkok",
          "Lima",
          "Dakar",
          "Johannesburg",
          "Amsterdam",
          "Casablanca",
          "Seoul",
          "Manila",
          "Monterrey",
          "Berlin",
          "Ürümqi",
          "Chengdu",
          "?saka",
          "Kinshasa",
          "New Delhi",
          "Bengaluru",
          "Athens",
          "Baghdad",
          "Addis Ababa",
          "Tehran",
          "Vancouver",
          "Toronto",
          "Buenos Aires",
          "Kabul",
          "Vienna",
          "Melbourne",
          "Taipei",
          "Auckland",
          "Los Angeles",
          "Washington,  D.C.",
          "New York",
          "London",
          "Istanbul",
          "Riyadh",
          "Cape Town",
          "Moscow",
          "Mexico City",
          "Lagos",
          "Rome",
          "Beijing",
          "Nairobi",
          "Jakarta",
          "Bogota",
          "Cairo",
          "Shanghai",
          "Tokyo",
          "Mumbai",
          "Paris",
          "Santiago",
          "Kolkata",
          "Rio de Janeiro",
          "São Paulo",
          "Sydney",
          "Singapore",
          "Hong Kong"
         ],
         "lat": [
          41.9032822,
          43.9360958,
          47.1337238,
          -26.4666675,
          49.6116604,
          6.9166437,
          7.1030043,
          -8.516652,
          7.4873962,
          26.1191667,
          43.7396457,
          1.3381875,
          -11.7041577,
          42.5107534941671,
          10.6519971,
          -1.9516442,
          -26.3166508,
          4.8299752,
          52.0800368,
          46.0552883,
          48.1500183,
          25.286556,
          42.4659725,
          6.9000039,
          16.4299907,
          -6.1833061,
          46.9166828,
          27.1499823,
          42.6667096,
          15.3010156,
          11.5950145,
          2.9325152122667406,
          35.0319381,
          13.4538765,
          42.0000061,
          13.1020026,
          6.483311,
          -3.3760872,
          13.155756013621149,
          14.007874585883364,
          17.3020305,
          -20.1666386,
          12.0526334,
          26.2361363,
          17.1180365,
          -34.90537638970807,
          6.1338829,
          36.8027781,
          24.4666836,
          37.9499949,
          -15.4146984,
          -17.8158438,
          -8.5593884,
          -17.7333504,
          14.1039908,
          6.8019737,
          64.14345946317033,
          18.5429705,
          0.3186048,
          5.8350301,
          13.5186518,
          38.5600352,
          -25.29067083610963,
          12.1549624,
          8.4719573,
          33.689368483707085,
          27.7186378,
          -29.1199939,
          -25.7049747,
          -9.4647078,
          -9.4379943,
          8.969963,
          34.0253073,
          47.0050236,
          -25.9533316,
          2.0686272,
          23.58517901476684,
          6.9319658,
          47.9186193,
          -22.5700061,
          9.054620406360845,
          11.8650238,
          31.9519711,
          54.6833663,
          56.9500238,
          42.8750253,
          -29.3166744,
          -18.9146915,
          -0.2130423,
          9.930370727948475,
          13.703280259193864,
          17.9770766,
          12.1150424,
          3.7500153,
          15.3333393,
          45.8000067,
          59.4338774,
          -13.9832951,
          14.6230805,
          0.3853886,
          -18.1330159,
          -33.04773936269631,
          18.086427,
          12.6519605,
          33.873921,
          41.7269558,
          51.1811253,
          17.9666927,
          -4.2572399,
          9.5334687,
          6.818381,
          45.4186427,
          44.8205913,
          4.8833311,
          -19.0409708,
          17.2520335,
          4.3666443,
          3.8686465,
          41.3275407,
          40.1830966,
          40.3972179,
          11.551976,
          -16.4960278,
          6.3629803922426715,
          42.6852953,
          53.9019233,
          27.4729859,
          -24.6463135,
          -35.2830285,
          12.3722618,
          43.8500224,
          19.7685029,
          -21.1385124,
          9.5600224,
          -4.6166317,
          0.3374664069826239,
          -13.835714958212938,
          35.8997325,
          4.17203699470936,
          31.7784078,
          14.916698,
          25.0833901,
          35.1666765,
          -41.2920679923151,
          21.0352731,
          39.9291844,
          47.5019522,
          15.3566792,
          44.4353177,
          33.5019799,
          38.7246687,
          15.5900241,
          59.9186361,
          52.23087197353951,
          39.0213846,
          -6.7980667,
          53.34673124898314,
          6.3145816,
          3.1397969439352504,
          23.1339047,
          50.0869665373215,
          29.3716635,
          18.470745058048376,
          5.5519805,
          32.8925,
          32.0819373,
          60.16380384948568,
          55.68051,
          5.3231260722445715,
          -15.7813944,
          50.8352629,
          23.7250056,
          -8.8363403,
          36.7650107,
          16.7853,
          37.784262651527904,
          39.7411339,
          29.741272831862542,
          25.7895566,
          33.73945728378348,
          41.847961283364114,
          10.5029444,
          50.4353132,
          25.21491189371225,
          41.30382822156198,
          40.4019721,
          46.2100075,
          59.324127204007475,
          13.7519451,
          -12.0460668,
          14.7177776,
          -26.1680989,
          52.3519145,
          33.6019221,
          37.568295,
          14.6061048,
          25.671941,
          52.5237645,
          43.8069581,
          30.6719459,
          34.691095244477914,
          -4.3277782,
          28.600023,
          12.971941,
          37.9852721,
          33.3405944,
          9.0352562,
          35.6738886,
          49.2753624,
          43.66464454743429,
          -34.61071459139255,
          34.5186361,
          48.2019611,
          -37.8180855,
          25.0358333,
          -36.8480549,
          34.049219260337075,
          38.9014952,
          40.72156174972766,
          51.5019406,
          41.01760173507249,
          24.634497474837755,
          -33.9180651,
          55.75411,
          19.4443883,
          6.4452075,
          41.8979015,
          39.901720309862675,
          -1.2814009,
          -6.1724718,
          4.5983694,
          30.0519062,
          31.2183983,
          35.6869628,
          19.06840847529168,
          48.85809231626911,
          -33.44020506918074,
          22.569578883795778,
          -22.907308056882364,
          -23.5567337,
          -33.87137339218338,
          1.2949793,
          22.3069268
         ],
         "legendgroup": "",
         "lon": [
          12.4533865,
          12.4417702,
          9.5166695,
          31.1999971,
          6.1300028,
          158.1499743,
          171.3800002,
          179.2166471,
          134.6265485,
          -9.6525222,
          7.4069132,
          173.0175708,
          43.2402441,
          1.5265942551654812,
          -61.5170309,
          30.0585859,
          31.1333345,
          31.5800256,
          4.2699613,
          14.514969,
          17.1169808,
          51.5329679,
          19.2663069,
          79.949993,
          120.5699426,
          35.7500036,
          7.4669755,
          -13.2000059,
          21.1659843,
          -61.387013,
          43.1480017,
          101.6950374044619,
          135.7480521,
          -16.5917015,
          21.4334615,
          -59.6165267,
          2.6166255,
          29.3600061,
          -61.220236420747256,
          -60.99287543435381,
          -62.7170093,
          57.4999939,
          -61.7416432,
          50.5830517,
          -61.8500338,
          -56.18682337831074,
          1.2208113,
          10.1796781,
          54.3665934,
          58.3832991,
          28.2813817,
          31.0427636,
          125.5794559,
          168.3166406,
          -87.2194752,
          -58.1670286,
          -21.936546009025054,
          -72.3379804,
          32.5813777,
          -55.1670309,
          2.1147102,
          68.7738794,
          -57.62583375528301,
          -86.2704375,
          -13.2361616,
          73.08063017764825,
          85.3146964,
          26.2299129,
          28.2274832,
          147.1925036,
          159.9497657,
          -79.534983,
          -6.8364082,
          28.8577111,
          32.5872171,
          45.3647318,
          58.37831058458708,
          79.8577506,
          106.9146699,
          17.0835461,
          7.489505042885861,
          -15.5983608,
          35.9313541,
          25.3166353,
          24.0999654,
          74.5832584,
          27.4832731,
          47.514678,
          -78.501997,
          -84.07881396964633,
          -89.2155758045276,
          -76.7674337,
          15.0472025,
          8.7832775,
          38.9333235,
          15.9999947,
          24.7280407,
          33.783302,
          -90.5289114,
          9.457965,
          178.4417073,
          -71.61702619154609,
          -15.9753404,
          -8.001985,
          35.5077624,
          44.7888496,
          71.4277742,
          102.59998,
          15.2827436,
          -13.6821809,
          -5.2755026,
          -75.7019612,
          20.4660448,
          114.9332841,
          -65.2595156,
          -88.767073,
          18.5582881,
          11.5147049,
          19.818883,
          44.5116055,
          49.8602713,
          104.9146886,
          -68.151931,
          2.4043547908879517,
          23.3147082,
          27.5646813,
          89.639014,
          25.9119478,
          149.1290262,
          -1.5266696,
          18.3830017,
          96.1166727,
          -175.2205645,
          44.06531,
          55.4499898,
          6.729649806269851,
          -171.76859897688345,
          14.5147107,
          73.5089005260037,
          35.2066259,
          -23.5166889,
          -77.3500438,
          33.3666349,
          174.77720094690068,
          105.8480683,
          32.8624458,
          19.0813748,
          44.2046475,
          26.0980008,
          36.29805,
          -9.1468122,
          32.5322334,
          10.7480333,
          21.005346737742283,
          125.7527449,
          39.266396,
          -6.256979517281132,
          -10.7996604,
          101.68869929106194,
          -82.366128,
          14.422939486203868,
          47.9763553,
          -69.92974231579055,
          -0.2186616,
          13.1800118,
          34.7680659,
          24.932456915043964,
          12.5615399,
          -4.020206835187587,
          -47.9179981,
          4.3313707,
          90.4066336,
          13.2324812,
          3.0486067,
          96.1647318,
          -122.39959956304557,
          -104.9859618,
          -95.34843625672217,
          -80.2260519,
          -84.36764186571386,
          -87.63523655322338,
          -66.9189831,
          30.5146821,
          55.28694561354246,
          69.26882294266261,
          -3.6852975,
          6.140028,
          18.066300168534497,
          100.5146988,
          -77.052008,
          -17.475076,
          28.0280639,
          4.9146943,
          -7.6183133,
          126.9977851,
          120.9802713,
          -100.3319306,
          13.3996028,
          87.5730598,
          104.0680736,
          135.50375419006232,
          15.313026,
          77.19998,
          77.5580639,
          23.7313752,
          44.3919229,
          38.6980586,
          51.4223982,
          -123.1235901,
          -79.38945855491194,
          -58.43251268766426,
          69.1813142,
          16.3646931,
          144.9730704,
          121.5683333,
          174.763027,
          -118.23198647223317,
          -77.0113644,
          -73.99571754361698,
          -0.1186677,
          28.97427681675554,
          46.720487024887696,
          18.4330423,
          37.613577,
          -99.1329341,
          3.3895852,
          12.4813126,
          116.39420089260611,
          36.814711,
          106.8274918,
          -74.0852898,
          31.2480224,
          121.4345588,
          139.7494616,
          72.8758393972653,
          2.3529924615392135,
          -70.65050407285783,
          88.36912550443886,
          -43.212117466834385,
          -46.6269658,
          151.2125477744749,
          103.8538748,
          114.1830635
         ],
         "marker": {
          "color": "#636efa"
         },
         "mode": "markers",
         "name": "",
         "showlegend": false,
         "subplot": "mapbox",
         "type": "scattermapbox"
        }
       ],
       "layout": {
        "legend": {
         "tracegroupgap": 0
        },
        "mapbox": {
         "center": {
          "lat": 18.07585916113921,
          "lon": 20.510473360107905
         },
         "domain": {
          "x": [
           0,
           1
          ],
          "y": [
           0,
           1
          ]
         },
         "zoom": 1
        },
        "margin": {
         "t": 60
        },
        "template": {
         "data": {
          "bar": [
           {
            "error_x": {
             "color": "#2a3f5f"
            },
            "error_y": {
             "color": "#2a3f5f"
            },
            "marker": {
             "line": {
              "color": "#E5ECF6",
              "width": 0.5
             },
             "pattern": {
              "fillmode": "overlay",
              "size": 10,
              "solidity": 0.2
             }
            },
            "type": "bar"
           }
          ],
          "barpolar": [
           {
            "marker": {
             "line": {
              "color": "#E5ECF6",
              "width": 0.5
             },
             "pattern": {
              "fillmode": "overlay",
              "size": 10,
              "solidity": 0.2
             }
            },
            "type": "barpolar"
           }
          ],
          "carpet": [
           {
            "aaxis": {
             "endlinecolor": "#2a3f5f",
             "gridcolor": "white",
             "linecolor": "white",
             "minorgridcolor": "white",
             "startlinecolor": "#2a3f5f"
            },
            "baxis": {
             "endlinecolor": "#2a3f5f",
             "gridcolor": "white",
             "linecolor": "white",
             "minorgridcolor": "white",
             "startlinecolor": "#2a3f5f"
            },
            "type": "carpet"
           }
          ],
          "choropleth": [
           {
            "colorbar": {
             "outlinewidth": 0,
             "ticks": ""
            },
            "type": "choropleth"
           }
          ],
          "contour": [
           {
            "colorbar": {
             "outlinewidth": 0,
             "ticks": ""
            },
            "colorscale": [
             [
              0,
              "#0d0887"
             ],
             [
              0.1111111111111111,
              "#46039f"
             ],
             [
              0.2222222222222222,
              "#7201a8"
             ],
             [
              0.3333333333333333,
              "#9c179e"
             ],
             [
              0.4444444444444444,
              "#bd3786"
             ],
             [
              0.5555555555555556,
              "#d8576b"
             ],
             [
              0.6666666666666666,
              "#ed7953"
             ],
             [
              0.7777777777777778,
              "#fb9f3a"
             ],
             [
              0.8888888888888888,
              "#fdca26"
             ],
             [
              1,
              "#f0f921"
             ]
            ],
            "type": "contour"
           }
          ],
          "contourcarpet": [
           {
            "colorbar": {
             "outlinewidth": 0,
             "ticks": ""
            },
            "type": "contourcarpet"
           }
          ],
          "heatmap": [
           {
            "colorbar": {
             "outlinewidth": 0,
             "ticks": ""
            },
            "colorscale": [
             [
              0,
              "#0d0887"
             ],
             [
              0.1111111111111111,
              "#46039f"
             ],
             [
              0.2222222222222222,
              "#7201a8"
             ],
             [
              0.3333333333333333,
              "#9c179e"
             ],
             [
              0.4444444444444444,
              "#bd3786"
             ],
             [
              0.5555555555555556,
              "#d8576b"
             ],
             [
              0.6666666666666666,
              "#ed7953"
             ],
             [
              0.7777777777777778,
              "#fb9f3a"
             ],
             [
              0.8888888888888888,
              "#fdca26"
             ],
             [
              1,
              "#f0f921"
             ]
            ],
            "type": "heatmap"
           }
          ],
          "heatmapgl": [
           {
            "colorbar": {
             "outlinewidth": 0,
             "ticks": ""
            },
            "colorscale": [
             [
              0,
              "#0d0887"
             ],
             [
              0.1111111111111111,
              "#46039f"
             ],
             [
              0.2222222222222222,
              "#7201a8"
             ],
             [
              0.3333333333333333,
              "#9c179e"
             ],
             [
              0.4444444444444444,
              "#bd3786"
             ],
             [
              0.5555555555555556,
              "#d8576b"
             ],
             [
              0.6666666666666666,
              "#ed7953"
             ],
             [
              0.7777777777777778,
              "#fb9f3a"
             ],
             [
              0.8888888888888888,
              "#fdca26"
             ],
             [
              1,
              "#f0f921"
             ]
            ],
            "type": "heatmapgl"
           }
          ],
          "histogram": [
           {
            "marker": {
             "pattern": {
              "fillmode": "overlay",
              "size": 10,
              "solidity": 0.2
             }
            },
            "type": "histogram"
           }
          ],
          "histogram2d": [
           {
            "colorbar": {
             "outlinewidth": 0,
             "ticks": ""
            },
            "colorscale": [
             [
              0,
              "#0d0887"
             ],
             [
              0.1111111111111111,
              "#46039f"
             ],
             [
              0.2222222222222222,
              "#7201a8"
             ],
             [
              0.3333333333333333,
              "#9c179e"
             ],
             [
              0.4444444444444444,
              "#bd3786"
             ],
             [
              0.5555555555555556,
              "#d8576b"
             ],
             [
              0.6666666666666666,
              "#ed7953"
             ],
             [
              0.7777777777777778,
              "#fb9f3a"
             ],
             [
              0.8888888888888888,
              "#fdca26"
             ],
             [
              1,
              "#f0f921"
             ]
            ],
            "type": "histogram2d"
           }
          ],
          "histogram2dcontour": [
           {
            "colorbar": {
             "outlinewidth": 0,
             "ticks": ""
            },
            "colorscale": [
             [
              0,
              "#0d0887"
             ],
             [
              0.1111111111111111,
              "#46039f"
             ],
             [
              0.2222222222222222,
              "#7201a8"
             ],
             [
              0.3333333333333333,
              "#9c179e"
             ],
             [
              0.4444444444444444,
              "#bd3786"
             ],
             [
              0.5555555555555556,
              "#d8576b"
             ],
             [
              0.6666666666666666,
              "#ed7953"
             ],
             [
              0.7777777777777778,
              "#fb9f3a"
             ],
             [
              0.8888888888888888,
              "#fdca26"
             ],
             [
              1,
              "#f0f921"
             ]
            ],
            "type": "histogram2dcontour"
           }
          ],
          "mesh3d": [
           {
            "colorbar": {
             "outlinewidth": 0,
             "ticks": ""
            },
            "type": "mesh3d"
           }
          ],
          "parcoords": [
           {
            "line": {
             "colorbar": {
              "outlinewidth": 0,
              "ticks": ""
             }
            },
            "type": "parcoords"
           }
          ],
          "pie": [
           {
            "automargin": true,
            "type": "pie"
           }
          ],
          "scatter": [
           {
            "fillpattern": {
             "fillmode": "overlay",
             "size": 10,
             "solidity": 0.2
            },
            "type": "scatter"
           }
          ],
          "scatter3d": [
           {
            "line": {
             "colorbar": {
              "outlinewidth": 0,
              "ticks": ""
             }
            },
            "marker": {
             "colorbar": {
              "outlinewidth": 0,
              "ticks": ""
             }
            },
            "type": "scatter3d"
           }
          ],
          "scattercarpet": [
           {
            "marker": {
             "colorbar": {
              "outlinewidth": 0,
              "ticks": ""
             }
            },
            "type": "scattercarpet"
           }
          ],
          "scattergeo": [
           {
            "marker": {
             "colorbar": {
              "outlinewidth": 0,
              "ticks": ""
             }
            },
            "type": "scattergeo"
           }
          ],
          "scattergl": [
           {
            "marker": {
             "colorbar": {
              "outlinewidth": 0,
              "ticks": ""
             }
            },
            "type": "scattergl"
           }
          ],
          "scattermapbox": [
           {
            "marker": {
             "colorbar": {
              "outlinewidth": 0,
              "ticks": ""
             }
            },
            "type": "scattermapbox"
           }
          ],
          "scatterpolar": [
           {
            "marker": {
             "colorbar": {
              "outlinewidth": 0,
              "ticks": ""
             }
            },
            "type": "scatterpolar"
           }
          ],
          "scatterpolargl": [
           {
            "marker": {
             "colorbar": {
              "outlinewidth": 0,
              "ticks": ""
             }
            },
            "type": "scatterpolargl"
           }
          ],
          "scatterternary": [
           {
            "marker": {
             "colorbar": {
              "outlinewidth": 0,
              "ticks": ""
             }
            },
            "type": "scatterternary"
           }
          ],
          "surface": [
           {
            "colorbar": {
             "outlinewidth": 0,
             "ticks": ""
            },
            "colorscale": [
             [
              0,
              "#0d0887"
             ],
             [
              0.1111111111111111,
              "#46039f"
             ],
             [
              0.2222222222222222,
              "#7201a8"
             ],
             [
              0.3333333333333333,
              "#9c179e"
             ],
             [
              0.4444444444444444,
              "#bd3786"
             ],
             [
              0.5555555555555556,
              "#d8576b"
             ],
             [
              0.6666666666666666,
              "#ed7953"
             ],
             [
              0.7777777777777778,
              "#fb9f3a"
             ],
             [
              0.8888888888888888,
              "#fdca26"
             ],
             [
              1,
              "#f0f921"
             ]
            ],
            "type": "surface"
           }
          ],
          "table": [
           {
            "cells": {
             "fill": {
              "color": "#EBF0F8"
             },
             "line": {
              "color": "white"
             }
            },
            "header": {
             "fill": {
              "color": "#C8D4E3"
             },
             "line": {
              "color": "white"
             }
            },
            "type": "table"
           }
          ]
         },
         "layout": {
          "annotationdefaults": {
           "arrowcolor": "#2a3f5f",
           "arrowhead": 0,
           "arrowwidth": 1
          },
          "autotypenumbers": "strict",
          "coloraxis": {
           "colorbar": {
            "outlinewidth": 0,
            "ticks": ""
           }
          },
          "colorscale": {
           "diverging": [
            [
             0,
             "#8e0152"
            ],
            [
             0.1,
             "#c51b7d"
            ],
            [
             0.2,
             "#de77ae"
            ],
            [
             0.3,
             "#f1b6da"
            ],
            [
             0.4,
             "#fde0ef"
            ],
            [
             0.5,
             "#f7f7f7"
            ],
            [
             0.6,
             "#e6f5d0"
            ],
            [
             0.7,
             "#b8e186"
            ],
            [
             0.8,
             "#7fbc41"
            ],
            [
             0.9,
             "#4d9221"
            ],
            [
             1,
             "#276419"
            ]
           ],
           "sequential": [
            [
             0,
             "#0d0887"
            ],
            [
             0.1111111111111111,
             "#46039f"
            ],
            [
             0.2222222222222222,
             "#7201a8"
            ],
            [
             0.3333333333333333,
             "#9c179e"
            ],
            [
             0.4444444444444444,
             "#bd3786"
            ],
            [
             0.5555555555555556,
             "#d8576b"
            ],
            [
             0.6666666666666666,
             "#ed7953"
            ],
            [
             0.7777777777777778,
             "#fb9f3a"
            ],
            [
             0.8888888888888888,
             "#fdca26"
            ],
            [
             1,
             "#f0f921"
            ]
           ],
           "sequentialminus": [
            [
             0,
             "#0d0887"
            ],
            [
             0.1111111111111111,
             "#46039f"
            ],
            [
             0.2222222222222222,
             "#7201a8"
            ],
            [
             0.3333333333333333,
             "#9c179e"
            ],
            [
             0.4444444444444444,
             "#bd3786"
            ],
            [
             0.5555555555555556,
             "#d8576b"
            ],
            [
             0.6666666666666666,
             "#ed7953"
            ],
            [
             0.7777777777777778,
             "#fb9f3a"
            ],
            [
             0.8888888888888888,
             "#fdca26"
            ],
            [
             1,
             "#f0f921"
            ]
           ]
          },
          "colorway": [
           "#636efa",
           "#EF553B",
           "#00cc96",
           "#ab63fa",
           "#FFA15A",
           "#19d3f3",
           "#FF6692",
           "#B6E880",
           "#FF97FF",
           "#FECB52"
          ],
          "font": {
           "color": "#2a3f5f"
          },
          "geo": {
           "bgcolor": "white",
           "lakecolor": "white",
           "landcolor": "#E5ECF6",
           "showlakes": true,
           "showland": true,
           "subunitcolor": "white"
          },
          "hoverlabel": {
           "align": "left"
          },
          "hovermode": "closest",
          "mapbox": {
           "style": "light"
          },
          "paper_bgcolor": "white",
          "plot_bgcolor": "#E5ECF6",
          "polar": {
           "angularaxis": {
            "gridcolor": "white",
            "linecolor": "white",
            "ticks": ""
           },
           "bgcolor": "#E5ECF6",
           "radialaxis": {
            "gridcolor": "white",
            "linecolor": "white",
            "ticks": ""
           }
          },
          "scene": {
           "xaxis": {
            "backgroundcolor": "#E5ECF6",
            "gridcolor": "white",
            "gridwidth": 2,
            "linecolor": "white",
            "showbackground": true,
            "ticks": "",
            "zerolinecolor": "white"
           },
           "yaxis": {
            "backgroundcolor": "#E5ECF6",
            "gridcolor": "white",
            "gridwidth": 2,
            "linecolor": "white",
            "showbackground": true,
            "ticks": "",
            "zerolinecolor": "white"
           },
           "zaxis": {
            "backgroundcolor": "#E5ECF6",
            "gridcolor": "white",
            "gridwidth": 2,
            "linecolor": "white",
            "showbackground": true,
            "ticks": "",
            "zerolinecolor": "white"
           }
          },
          "shapedefaults": {
           "line": {
            "color": "#2a3f5f"
           }
          },
          "ternary": {
           "aaxis": {
            "gridcolor": "white",
            "linecolor": "white",
            "ticks": ""
           },
           "baxis": {
            "gridcolor": "white",
            "linecolor": "white",
            "ticks": ""
           },
           "bgcolor": "#E5ECF6",
           "caxis": {
            "gridcolor": "white",
            "linecolor": "white",
            "ticks": ""
           }
          },
          "title": {
           "x": 0.05
          },
          "xaxis": {
           "automargin": true,
           "gridcolor": "white",
           "linecolor": "white",
           "ticks": "",
           "title": {
            "standoff": 15
           },
           "zerolinecolor": "white",
           "zerolinewidth": 2
          },
          "yaxis": {
           "automargin": true,
           "gridcolor": "white",
           "linecolor": "white",
           "ticks": "",
           "title": {
            "standoff": 15
           },
           "zerolinecolor": "white",
           "zerolinewidth": 2
          }
         }
        }
       }
      }
     },
     "metadata": {},
     "output_type": "display_data"
    }
   ],
   "source": [
    "import plotly.express as px\n",
    "import geopandas as gpd\n",
    "\n",
    "geo_df = gpd.read_file(gpd.datasets.get_path('naturalearth_cities'))\n",
    "\n",
    "#px.set_mapbox_access_token(open(\".mapbox_token\").read())\n",
    "fig = px.scatter_mapbox(geo_df,\n",
    "                        lat=geo_df.geometry.y,\n",
    "                        lon=geo_df.geometry.x,\n",
    "                        hover_name=\"name\",\n",
    "                        zoom=1)\n",
    "fig.show()"
   ]
  },
  {
   "cell_type": "code",
   "execution_count": 65,
   "metadata": {},
   "outputs": [
    {
     "ename": "FileNotFoundError",
     "evalue": "[Errno 2] No such file or directory: '.mapbox_token'",
     "output_type": "error",
     "traceback": [
      "\u001b[0;31m---------------------------------------------------------------------------\u001b[0m",
      "\u001b[0;31mFileNotFoundError\u001b[0m                         Traceback (most recent call last)",
      "Cell \u001b[0;32mIn[65], line 1\u001b[0m\n\u001b[0;32m----> 1\u001b[0m px\u001b[39m.\u001b[39mset_mapbox_access_token(\u001b[39mopen\u001b[39;49m(\u001b[39m\"\u001b[39;49m\u001b[39m.mapbox_token\u001b[39;49m\u001b[39m\"\u001b[39;49m)\u001b[39m.\u001b[39mread())\n",
      "File \u001b[0;32m~/.local/lib/python3.9/site-packages/IPython/core/interactiveshell.py:282\u001b[0m, in \u001b[0;36m_modified_open\u001b[0;34m(file, *args, **kwargs)\u001b[0m\n\u001b[1;32m    275\u001b[0m \u001b[39mif\u001b[39;00m file \u001b[39min\u001b[39;00m {\u001b[39m0\u001b[39m, \u001b[39m1\u001b[39m, \u001b[39m2\u001b[39m}:\n\u001b[1;32m    276\u001b[0m     \u001b[39mraise\u001b[39;00m \u001b[39mValueError\u001b[39;00m(\n\u001b[1;32m    277\u001b[0m         \u001b[39mf\u001b[39m\u001b[39m\"\u001b[39m\u001b[39mIPython won\u001b[39m\u001b[39m'\u001b[39m\u001b[39mt let you open fd=\u001b[39m\u001b[39m{\u001b[39;00mfile\u001b[39m}\u001b[39;00m\u001b[39m by default \u001b[39m\u001b[39m\"\u001b[39m\n\u001b[1;32m    278\u001b[0m         \u001b[39m\"\u001b[39m\u001b[39mas it is likely to crash IPython. If you know what you are doing, \u001b[39m\u001b[39m\"\u001b[39m\n\u001b[1;32m    279\u001b[0m         \u001b[39m\"\u001b[39m\u001b[39myou can use builtins\u001b[39m\u001b[39m'\u001b[39m\u001b[39m open.\u001b[39m\u001b[39m\"\u001b[39m\n\u001b[1;32m    280\u001b[0m     )\n\u001b[0;32m--> 282\u001b[0m \u001b[39mreturn\u001b[39;00m io_open(file, \u001b[39m*\u001b[39;49margs, \u001b[39m*\u001b[39;49m\u001b[39m*\u001b[39;49mkwargs)\n",
      "\u001b[0;31mFileNotFoundError\u001b[0m: [Errno 2] No such file or directory: '.mapbox_token'"
     ]
    }
   ],
   "source": [
    "px.set_mapbox_access_token(open(\".mapbox_token\").read())"
   ]
  },
  {
   "cell_type": "code",
   "execution_count": null,
   "metadata": {},
   "outputs": [],
   "source": []
  }
 ],
 "metadata": {
  "kernelspec": {
   "display_name": "Python 3.9.13 ('base')",
   "language": "python",
   "name": "python3"
  },
  "language_info": {
   "codemirror_mode": {
    "name": "ipython",
    "version": 3
   },
   "file_extension": ".py",
   "mimetype": "text/x-python",
   "name": "python",
   "nbconvert_exporter": "python",
   "pygments_lexer": "ipython3",
   "version": "3.9.13"
  },
  "orig_nbformat": 4,
  "vscode": {
   "interpreter": {
    "hash": "40d3a090f54c6569ab1632332b64b2c03c39dcf918b08424e98f38b5ae0af88f"
   }
  }
 },
 "nbformat": 4,
 "nbformat_minor": 2
}
